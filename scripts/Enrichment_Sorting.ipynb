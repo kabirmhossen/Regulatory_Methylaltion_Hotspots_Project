{
 "cells": [
  {
   "cell_type": "code",
   "execution_count": 147,
   "id": "0463df7d-f4bb-4136-b6bc-79e341aaff59",
   "metadata": {},
   "outputs": [],
   "source": [
    "import pandas as pd\n",
    "import numpy as np\n",
    "\n",
    "# === Step 1: Load the CSV ===\n",
    "#df = pd.read_csv(\"all_enrichments_of_STAT1_gene_and_its_neighbor_genes.csv\")  # Replace with your actual CSV file path\n",
    "#df = pd.read_csv(\"all_enrichments_of_SNX2_gene_and_its_neighbor_genes.csv\")\n",
    "#df = pd.read_csv(\"all_enrichments_of_SLC2A14_gene_and_its_neighbor_genes.csv\")\n",
    "#df = pd.read_csv(\"all_enrichments_of_LTBP4_gene_and_its_neighbor_genes.csv\")\n",
    "#df = pd.read_csv(\"all_enrichments_of_DUOX1_gene_and_its_neighbor_genes.csv\")\n",
    "#df = pd.read_csv(\"all_enrichments_of_SULF2_gene_and_its_neighbor_genes.csv\")\n",
    "df = pd.read_csv(\"all_enrichments_of_TUBGCP2_gene_and_its_neighbor_genes.csv\")\n",
    "\n",
    "#df = pd.concat([df1, df2, df3, df4, df5, df6, df7], ignore_index=True)\n"
   ]
  },
  {
   "cell_type": "code",
   "execution_count": 149,
   "id": "14312df3-c723-4042-b829-47384a3d2ed6",
   "metadata": {},
   "outputs": [
    {
     "name": "stdout",
     "output_type": "stream",
     "text": [
      "     category        term  number_of_genes  number_of_genes_in_background  \\\n",
      "547  Function  GO:0015631               69                            380   \n",
      "548  Function  GO:0005200               36                            107   \n",
      "549  Function  GO:1901265              180                           2169   \n",
      "550  Function  GO:0000166              179                           2168   \n",
      "551  Function  GO:0008017               51                            269   \n",
      "\n",
      "     ncbiTaxonId                                         inputGenes  \\\n",
      "547         9606  9606.ENSP00000160827,9606.ENSP00000233121,9606...   \n",
      "548         9606  9606.ENSP00000217133,9606.ENSP00000247843,9606...   \n",
      "549         9606  9606.ENSP00000160827,9606.ENSP00000202967,9606...   \n",
      "550         9606  9606.ENSP00000160827,9606.ENSP00000202967,9606...   \n",
      "551         9606  9606.ENSP00000160827,9606.ENSP00000233121,9606...   \n",
      "\n",
      "                                        preferredNames       p_value  \\\n",
      "547  KIF22,MAPRE3,CAMSAP2,TTLL2,TUBGCP6,HAUS8,TUBGC...  2.980000e-22   \n",
      "548  TUBB1,YEATS4,TUBA4A,TUBG2,TUBG1,TUBB2B,TUBGCP4...  2.900000e-19   \n",
      "549  KIF22,SIRT4,MAPK1,MYH9,AURKA,TUBB1,IDH3G,ACTA2...  1.160000e-18   \n",
      "550  KIF22,SIRT4,MAPK1,MYH9,AURKA,TUBB1,IDH3G,ACTA2...  2.440000e-18   \n",
      "551  KIF22,MAPRE3,CAMSAP2,TUBGCP6,HAUS8,KIF11,MARK4...  2.080000e-17   \n",
      "\n",
      "              fdr                             description  \n",
      "547  1.470000e-18                         Tubulin binding  \n",
      "548  7.160000e-16  Structural constituent of cytoskeleton  \n",
      "549  1.910000e-15            Nucleoside phosphate binding  \n",
      "550  3.010000e-15                      Nucleotide binding  \n",
      "551  2.050000e-14                     Microtubule binding  \n"
     ]
    }
   ],
   "source": [
    "# === Step 2: Filter rows where category is \"COMPARTMENTS\" ===\n",
    "df_filtered = df[df['category'] == 'Function'].copy()\n",
    "\n",
    "print(df_filtered.head())"
   ]
  },
  {
   "cell_type": "code",
   "execution_count": 149,
   "id": "f96b2e7f-4a5c-41cb-9fca-db0e1d38f931",
   "metadata": {},
   "outputs": [
    {
     "name": "stdout",
     "output_type": "stream",
     "text": [
      "     category        term  number_of_genes  number_of_genes_in_background  \\\n",
      "547  Function  GO:0015631               69                            380   \n",
      "548  Function  GO:0005200               36                            107   \n",
      "549  Function  GO:1901265              180                           2169   \n",
      "550  Function  GO:0000166              179                           2168   \n",
      "551  Function  GO:0008017               51                            269   \n",
      "\n",
      "     ncbiTaxonId                                         inputGenes  \\\n",
      "547         9606  9606.ENSP00000160827,9606.ENSP00000233121,9606...   \n",
      "548         9606  9606.ENSP00000217133,9606.ENSP00000247843,9606...   \n",
      "549         9606  9606.ENSP00000160827,9606.ENSP00000202967,9606...   \n",
      "550         9606  9606.ENSP00000160827,9606.ENSP00000202967,9606...   \n",
      "551         9606  9606.ENSP00000160827,9606.ENSP00000233121,9606...   \n",
      "\n",
      "                                        preferredNames       p_value  \\\n",
      "547  KIF22,MAPRE3,CAMSAP2,TTLL2,TUBGCP6,HAUS8,TUBGC...  2.980000e-22   \n",
      "548  TUBB1,YEATS4,TUBA4A,TUBG2,TUBG1,TUBB2B,TUBGCP4...  2.900000e-19   \n",
      "549  KIF22,SIRT4,MAPK1,MYH9,AURKA,TUBB1,IDH3G,ACTA2...  1.160000e-18   \n",
      "550  KIF22,SIRT4,MAPK1,MYH9,AURKA,TUBB1,IDH3G,ACTA2...  2.440000e-18   \n",
      "551  KIF22,MAPRE3,CAMSAP2,TUBGCP6,HAUS8,KIF11,MARK4...  2.080000e-17   \n",
      "\n",
      "              fdr                             description  \n",
      "547  1.470000e-18                         Tubulin binding  \n",
      "548  7.160000e-16  Structural constituent of cytoskeleton  \n",
      "549  1.910000e-15            Nucleoside phosphate binding  \n",
      "550  3.010000e-15                      Nucleotide binding  \n",
      "551  2.050000e-14                     Microtubule binding  \n"
     ]
    }
   ],
   "source": [
    "# === Step 2: Filter rows where category is \"COMPARTMENTS\" ===\n",
    "df_filtered = df[df['category'] == 'Function'].copy()\n",
    "\n",
    "print(df_filtered.head())"
   ]
  },
  {
   "cell_type": "code",
   "execution_count": 151,
   "id": "4be75f80-ae60-40de-a16c-e571d4bcd6ff",
   "metadata": {},
   "outputs": [
    {
     "name": "stdout",
     "output_type": "stream",
     "text": [
      "                              description   C1   C2   C3   C4   C5   C6   C7  \\\n",
      "0                         Tubulin binding  NaN  NaN  NaN  NaN  NaN  NaN  NaN   \n",
      "1  Structural constituent of cytoskeleton  NaN  NaN  NaN  NaN  NaN  NaN  NaN   \n",
      "2            Nucleoside phosphate binding  NaN  NaN  NaN  NaN  NaN  NaN  NaN   \n",
      "3                      Nucleotide binding  NaN  NaN  NaN  NaN  NaN  NaN  NaN   \n",
      "4                     Microtubule binding  NaN  NaN  NaN  NaN  NaN  NaN  NaN   \n",
      "\n",
      "    C8   C9  ... C595 C596 C597 C598 C599 C600 C601 C602 C603 C604  \n",
      "0  NaN  NaN  ...  NaN  NaN  NaN  NaN  NaN  NaN  NaN  NaN  NaN  NaN  \n",
      "1  NaN  NaN  ...  NaN  NaN  NaN  NaN  NaN  NaN  NaN  NaN  NaN  NaN  \n",
      "2  NaN  NaN  ...  NaN  NaN  NaN  NaN  NaN  NaN  NaN  NaN  NaN  NaN  \n",
      "3  NaN  NaN  ...  NaN  NaN  NaN  NaN  NaN  NaN  NaN  NaN  NaN  NaN  \n",
      "4  NaN  NaN  ...  NaN  NaN  NaN  NaN  NaN  NaN  NaN  NaN  NaN  NaN  \n",
      "\n",
      "[5 rows x 605 columns]\n"
     ]
    }
   ],
   "source": [
    "# === Step 3: Split 'preferredNames' column into separate gene columns ===\n",
    "split_genes = df_filtered['preferredNames'].str.split(',', expand=True)\n",
    "\n",
    "# Rename columns as C1, C2, C3, ...\n",
    "split_genes.columns = [f\"C{i+1}\" for i in range(split_genes.shape[1])]\n",
    "\n",
    "# === Step 4: Keep only 'description' column + gene columns ===\n",
    "final_df = pd.concat([df_filtered[['description']].reset_index(drop=True), split_genes], axis=1)\n",
    "\n",
    "# === Step 5: Save to CSV (optional) ===\n",
    "# final_df.to_csv(\"filtered_compartments_genes.csv\", index=False)\n",
    "\n",
    "# === Step 6: Show preview ===\n",
    "print(final_df.head())\n"
   ]
  },
  {
   "cell_type": "code",
   "execution_count": 153,
   "id": "112f40d6-950a-4437-ad65-913f0198d77f",
   "metadata": {},
   "outputs": [],
   "source": [
    "# Example: replace with your actual gene list\n",
    "gene_list = {\"LTBP4\", \"SNX2\", \"STAT1\", \"SULF2\", \"SLC2A14\", \"TUBGCP2\", \"DUOX1\"}  # use a set for fast lookup\n",
    "\n",
    "# === Step 3: Check each cell for match ===\n",
    "# Create a copy to store matched genes or NaN\n",
    "matched_df = final_df.copy()"
   ]
  },
  {
   "cell_type": "code",
   "execution_count": 155,
   "id": "7e5c5c73-b050-4a68-9b49-40594c83616c",
   "metadata": {},
   "outputs": [
    {
     "name": "stdout",
     "output_type": "stream",
     "text": [
      "                              description  C1  C2  C3  C4  C5  C6  C7  C8  C9  \\\n",
      "0                         Tubulin binding NaN NaN NaN NaN NaN NaN NaN NaN NaN   \n",
      "1  Structural constituent of cytoskeleton NaN NaN NaN NaN NaN NaN NaN NaN NaN   \n",
      "2            Nucleoside phosphate binding NaN NaN NaN NaN NaN NaN NaN NaN NaN   \n",
      "3                      Nucleotide binding NaN NaN NaN NaN NaN NaN NaN NaN NaN   \n",
      "4                     Microtubule binding NaN NaN NaN NaN NaN NaN NaN NaN NaN   \n",
      "\n",
      "   ... C596  C597  C598  C599  C600  C601  C602  C603  C604  Matched_Genes  \n",
      "0  ...  NaN   NaN   NaN   NaN   NaN   NaN   NaN   NaN   NaN            NaN  \n",
      "1  ...  NaN   NaN   NaN   NaN   NaN   NaN   NaN   NaN   NaN            NaN  \n",
      "2  ...  NaN   NaN   NaN   NaN   NaN   NaN   NaN   NaN   NaN            NaN  \n",
      "3  ...  NaN   NaN   NaN   NaN   NaN   NaN   NaN   NaN   NaN            NaN  \n",
      "4  ...  NaN   NaN   NaN   NaN   NaN   NaN   NaN   NaN   NaN            NaN  \n",
      "\n",
      "[5 rows x 606 columns]\n",
      "                              description Matched_Genes\n",
      "0                         Tubulin binding           NaN\n",
      "1  Structural constituent of cytoskeleton           NaN\n",
      "2            Nucleoside phosphate binding           NaN\n",
      "3                      Nucleotide binding           NaN\n",
      "4                     Microtubule binding           NaN\n"
     ]
    },
    {
     "name": "stderr",
     "output_type": "stream",
     "text": [
      "C:\\Users\\Kabir Hossen\\AppData\\Local\\Temp\\ipykernel_32376\\2034335318.py:6: PerformanceWarning: DataFrame is highly fragmented.  This is usually the result of calling `frame.insert` many times, which has poor performance.  Consider joining all columns at once using pd.concat(axis=1) instead. To get a de-fragmented frame, use `newframe = frame.copy()`\n",
      "  matched_df['Matched_Genes'] = matched_df.iloc[:, 1:].apply(lambda row: ','.join(row.dropna().astype(str)) if row.dropna().any() else np.nan, axis=1)\n"
     ]
    }
   ],
   "source": [
    "# Apply function to each cell\n",
    "for col in matched_df.columns[1:]:  # skip 'Functions' column\n",
    "    matched_df[col] = matched_df[col].apply(lambda x: x if pd.notna(x) and x in gene_list else np.nan)\n",
    "\n",
    "# === Step 4: Add column for each row's matched genes ===\n",
    "matched_df['Matched_Genes'] = matched_df.iloc[:, 1:].apply(lambda row: ','.join(row.dropna().astype(str)) if row.dropna().any() else np.nan, axis=1)\n",
    "print(matched_df.head())\n",
    "subset_df = matched_df[['description', 'Matched_Genes']]\n",
    "# Remove rows where 'Matched_Genes' is NaN or an empty string\n",
    "subset_df1 = subset_df[subset_df['Matched_Genes'].notna() & (subset_df['Matched_Genes'] != '')]\n",
    "\n",
    "print(subset_df.head())\n",
    "# === Step 5: Save to file ===\n",
    "#subset_df.to_csv(\"STAT1_Process_matched_subset.csv\", index=False)\n",
    "subset_df1.to_csv(\"TUBGCP2_Function_matched_subset1.csv\", index=False)"
   ]
  },
  {
   "cell_type": "code",
   "execution_count": null,
   "id": "99ecb87d-0e3d-41e0-a67d-e46490eba0f3",
   "metadata": {},
   "outputs": [],
   "source": []
  }
 ],
 "metadata": {
  "kernelspec": {
   "display_name": "Python 3 (ipykernel)",
   "language": "python",
   "name": "python3"
  },
  "language_info": {
   "codemirror_mode": {
    "name": "ipython",
    "version": 3
   },
   "file_extension": ".py",
   "mimetype": "text/x-python",
   "name": "python",
   "nbconvert_exporter": "python",
   "pygments_lexer": "ipython3",
   "version": "3.12.4"
  }
 },
 "nbformat": 4,
 "nbformat_minor": 5
}
